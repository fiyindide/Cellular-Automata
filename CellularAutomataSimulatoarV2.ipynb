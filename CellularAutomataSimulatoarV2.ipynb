{
 "cells": [
  {
   "metadata": {},
   "cell_type": "markdown",
   "source": [
    "### Project Title: Cellular Automaton Simulation in Python\n",
    "\n",
    "#### Introduction:\n",
    "This project simulates a basic two-dimensional Cellular Automaton, similar to Conway's Game of Life. The grid comprises cells that can be in one of two states: live (1) or dead (0). The evolution of the grid follows defined rules based on the states of neighboring cells, creating dynamic patterns over multiple generations.\n",
    "\n",
    "#### Project Objectives:\n",
    "\n",
    "Implement the Cellular Automaton rules using Python functions.\n",
    "Visualize the evolution of the grid state over multiple generations.\n",
    "Present all simulated generations in a grid layout for better visualization.\n",
    "Core Features:\n",
    "\n",
    "#### Randomized initial grid state.\n",
    "Rule-based updates for live and dead cells based on neighbor counts.\n",
    "Visualization of the grid's evolution both sequentially and as a montage layout.\n",
    "This project demonstrates the fundamental principles of cellular automata and provides an engaging way to visualize computational rules leading to emergent behavior patterns. It can be extended to more complex automata and real-world simulations such as population models or physics simulations."
   ],
   "id": "4fd701400e67a096"
  },
  {
   "metadata": {
    "collapsed": true,
    "ExecuteTime": {
     "end_time": "2025-02-07T18:59:26.785228Z",
     "start_time": "2025-02-07T18:59:25.827542Z"
    }
   },
   "cell_type": "code",
   "outputs": [],
   "execution_count": 2,
   "source": [
    "import numpy as np\n",
    "import matplotlib.pyplot as plt\n",
    "import time"
   ],
   "id": "initial_id"
  },
  {
   "metadata": {
    "ExecuteTime": {
     "end_time": "2025-02-07T19:07:50.002208Z",
     "start_time": "2025-02-07T19:07:49.257162Z"
    }
   },
   "cell_type": "code",
   "source": [
    "\n",
    "# Initialize grid size and number of generations\n",
    "grid_size = 10  # The size of the cellular grid (10x10)\n",
    "generations = 10  # Number of generations to simulate\n",
    "\n",
    "# Create a random initial state for the grid\n",
    "# 0 represents a dead cell, 1 represents a live cell\n",
    "grid = np.random.randint(2, size=(grid_size, grid_size))\n",
    "\n",
    "\n",
    "def count_live_neighbors(grid, x, y):\n",
    "    \"\"\"\n",
    "    Count the number of live neighbors for a cell at (x, y).\n",
    "    Args:\n",
    "        grid (np.array): The 2D grid of cells.\n",
    "        x (int): Row index of the target cell.\n",
    "        y (int): Column index of the target cell.\n",
    "\n",
    "    Returns:\n",
    "        int: The number of live neighbors.\n",
    "    \"\"\"\n",
    "    rows, cols = grid.shape\n",
    "    # Neighboring positions relative to (x, y)\n",
    "    neighbors = [(-1, -1), (-1, 0), (-1, 1), (0, -1), (0, 1), (1, -1), (1, 0), (1, 1)]\n",
    "    live_neighbors = 0\n",
    "\n",
    "    for dx, dy in neighbors:\n",
    "        # Calculate neighbor coordinates with wrap-around (toroidal grid)\n",
    "        nx, ny = (x + dx) % rows, (y + dy) % cols\n",
    "        # Increment the count if the neighbor is a live cell\n",
    "        live_neighbors += grid[nx, ny]\n",
    "\n",
    "    return live_neighbors\n",
    "\n",
    "\n",
    "def update_grid(grid):\n",
    "    \"\"\"\n",
    "    Update the grid based on the rules of the cellular automaton.\n",
    "    Args:\n",
    "        grid (np.array): The current grid state.\n",
    "\n",
    "    Returns:\n",
    "        np.array: The updated grid state.\n",
    "    \"\"\"\n",
    "    rows, cols = grid.shape\n",
    "    # Create a copy of the grid to store the updated state\n",
    "    new_grid = grid.copy()\n",
    "\n",
    "    for x in range(rows):\n",
    "        for y in range(cols):\n",
    "            # Count the number of live neighbors for the current cell\n",
    "            live_neighbors = count_live_neighbors(grid, x, y)\n",
    "\n",
    "            if grid[x, y] == 1:  # Live cell\n",
    "                # A live cell dies if it has fewer than 2 or more than 3 live neighbors\n",
    "                if live_neighbors < 2 or live_neighbors > 3:\n",
    "                    new_grid[x, y] = 0  # Cell dies\n",
    "            else:  # Dead cell\n",
    "                # A dead cell becomes alive if it has exactly 3 live neighbors\n",
    "                if live_neighbors == 3:\n",
    "                    new_grid[x, y] = 1  # Cell becomes alive\n",
    "\n",
    "    return new_grid\n",
    "\n",
    "\n",
    "def visualize_generations(grid_snapshots, generations):\n",
    "    \"\"\"\n",
    "    Visualize all generations in a single grid layout.\n",
    "    Args:\n",
    "        grid_snapshots (list): List of 2D arrays representing the grid state at each generation.\n",
    "        generations (int): Number of generations to display.\n",
    "    \"\"\"\n",
    "    cols = 5  # Number of columns in the plot grid\n",
    "    rows = int(np.ceil(generations / cols))  # Calculate required rows\n",
    "\n",
    "    fig, axes = plt.subplots(rows, cols, figsize=(15, 3 * rows))\n",
    "    for i, ax in enumerate(axes.flat):\n",
    "        if i < generations:\n",
    "            ax.imshow(grid_snapshots[i], cmap='gray')  # Show grid snapshot\n",
    "            ax.set_title(f'Generation {i + 1}')\n",
    "            ax.axis('off')  # Hide axis for cleaner visualization\n",
    "        else:\n",
    "            ax.axis('off')  # Hide unused plot cells\n",
    "\n",
    "    plt.suptitle(\"Cellular Automata Evolution\", fontsize=16)\n",
    "    plt.tight_layout(rect=[0, 0, 1, 0.95])\n",
    "    plt.show()\n",
    "\n",
    "\n",
    "# Collect grid states for visualization\n",
    "grid_snapshots = [grid.copy()]\n",
    "for _ in range(generations - 1):\n",
    "    grid = update_grid(grid)\n",
    "    grid_snapshots.append(grid.copy())\n",
    "\n",
    "# Visualize all generations in a single grid\n",
    "visualize_generations(grid_snapshots, generations)"
   ],
   "id": "dd6d5ab4824e711f",
   "outputs": [
    {
     "data": {
      "text/plain": [
       "<Figure size 1500x600 with 10 Axes>"
      ],
      "image/png": "[encoded data removed]"
     },
     "metadata": {},
     "output_type": "display_data"
    }
   ],
   "execution_count": 5
  },
  {
   "metadata": {},
   "cell_type": "code",
   "outputs": [],
   "execution_count": null,
   "source": "",
   "id": "f6fc6c314bebef74"
  }
 ],
 "metadata": {
  "kernelspec": {
   "display_name": "Python 3",
   "language": "python",
   "name": "python3"
  },
  "language_info": {
   "codemirror_mode": {
    "name": "ipython",
    "version": 2
   },
   "file_extension": ".py",
   "mimetype": "text/x-python",
   "name": "python",
   "nbconvert_exporter": "python",
   "pygments_lexer": "ipython2",
   "version": "2.7.6"
  }
 },
 "nbformat": 4,
 "nbformat_minor": 5
}
